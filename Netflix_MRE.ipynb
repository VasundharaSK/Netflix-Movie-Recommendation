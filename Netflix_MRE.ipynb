{
 "cells": [
  {
   "cell_type": "code",
   "execution_count": 1,
   "id": "084206a8",
   "metadata": {},
   "outputs": [],
   "source": [
    "import numpy as np\n",
    "import pandas as pd\n",
    "import scipy as sp\n",
    "import matplotlib.pyplot as plt\n",
    "import seaborn as sns\n",
    "import os\n",
    "import warnings\n",
    "warnings.filterwarnings('ignore')\n"
   ]
  },
  {
   "cell_type": "code",
   "execution_count": 2,
   "id": "f4c23ded",
   "metadata": {},
   "outputs": [
    {
     "name": "stdout",
     "output_type": "stream",
     "text": [
      "/Users/soujanya/Datascience/Netflix_MR\r\n"
     ]
    }
   ],
   "source": [
    "!pwd"
   ]
  },
  {
   "cell_type": "code",
   "execution_count": 3,
   "id": "77f50045",
   "metadata": {},
   "outputs": [
    {
     "name": "stdout",
     "output_type": "stream",
     "text": [
      "Tokenization took: 4.63 ms\n",
      "Type conversion took: 8.00 ms\n",
      "Parser memory cleanup took: 0.01 ms\n",
      "(17770, 3)\n"
     ]
    }
   ],
   "source": [
    "movies=pd.read_csv('movie_titles.csv', sep=',', header = None,usecols = [0,1,2],\n",
    "                           names=['Movie_Id', 'Year_of_release', 'Title'], verbose=True,\n",
    "                       encoding = \"ISO-8859-1\")\n",
    "print(movies.shape)"
   ]
  },
  {
   "cell_type": "code",
   "execution_count": 72,
   "id": "5fde801f",
   "metadata": {},
   "outputs": [
    {
     "data": {
      "text/html": [
       "<div>\n",
       "<style scoped>\n",
       "    .dataframe tbody tr th:only-of-type {\n",
       "        vertical-align: middle;\n",
       "    }\n",
       "\n",
       "    .dataframe tbody tr th {\n",
       "        vertical-align: top;\n",
       "    }\n",
       "\n",
       "    .dataframe thead th {\n",
       "        text-align: right;\n",
       "    }\n",
       "</style>\n",
       "<table border=\"1\" class=\"dataframe\">\n",
       "  <thead>\n",
       "    <tr style=\"text-align: right;\">\n",
       "      <th></th>\n",
       "      <th>Movie_Id</th>\n",
       "      <th>Year_of_release</th>\n",
       "      <th>Title</th>\n",
       "    </tr>\n",
       "  </thead>\n",
       "  <tbody>\n",
       "    <tr>\n",
       "      <th>0</th>\n",
       "      <td>1</td>\n",
       "      <td>2003.0</td>\n",
       "      <td>Dinosaur Planet</td>\n",
       "    </tr>\n",
       "    <tr>\n",
       "      <th>1</th>\n",
       "      <td>2</td>\n",
       "      <td>2004.0</td>\n",
       "      <td>Isle of Man TT 2004 Review</td>\n",
       "    </tr>\n",
       "    <tr>\n",
       "      <th>2</th>\n",
       "      <td>3</td>\n",
       "      <td>1997.0</td>\n",
       "      <td>Character</td>\n",
       "    </tr>\n",
       "    <tr>\n",
       "      <th>3</th>\n",
       "      <td>4</td>\n",
       "      <td>1994.0</td>\n",
       "      <td>Paula Abdul's Get Up &amp; Dance</td>\n",
       "    </tr>\n",
       "    <tr>\n",
       "      <th>4</th>\n",
       "      <td>5</td>\n",
       "      <td>2004.0</td>\n",
       "      <td>The Rise and Fall of ECW</td>\n",
       "    </tr>\n",
       "  </tbody>\n",
       "</table>\n",
       "</div>"
      ],
      "text/plain": [
       "   Movie_Id  Year_of_release                         Title\n",
       "0         1           2003.0               Dinosaur Planet\n",
       "1         2           2004.0    Isle of Man TT 2004 Review\n",
       "2         3           1997.0                     Character\n",
       "3         4           1994.0  Paula Abdul's Get Up & Dance\n",
       "4         5           2004.0      The Rise and Fall of ECW"
      ]
     },
     "execution_count": 72,
     "metadata": {},
     "output_type": "execute_result"
    }
   ],
   "source": [
    "movies.head(5)"
   ]
  },
  {
   "cell_type": "code",
   "execution_count": 5,
   "id": "d8438776",
   "metadata": {},
   "outputs": [
    {
     "data": {
      "text/html": [
       "<div>\n",
       "<style scoped>\n",
       "    .dataframe tbody tr th:only-of-type {\n",
       "        vertical-align: middle;\n",
       "    }\n",
       "\n",
       "    .dataframe tbody tr th {\n",
       "        vertical-align: top;\n",
       "    }\n",
       "\n",
       "    .dataframe thead th {\n",
       "        text-align: right;\n",
       "    }\n",
       "</style>\n",
       "<table border=\"1\" class=\"dataframe\">\n",
       "  <thead>\n",
       "    <tr style=\"text-align: right;\">\n",
       "      <th></th>\n",
       "      <th>Movie_Id</th>\n",
       "      <th>Year_of_release</th>\n",
       "      <th>Title</th>\n",
       "    </tr>\n",
       "  </thead>\n",
       "  <tbody>\n",
       "    <tr>\n",
       "      <th>17765</th>\n",
       "      <td>17766</td>\n",
       "      <td>2002.0</td>\n",
       "      <td>Where the Wild Things Are and Other Maurice Se...</td>\n",
       "    </tr>\n",
       "    <tr>\n",
       "      <th>17766</th>\n",
       "      <td>17767</td>\n",
       "      <td>2004.0</td>\n",
       "      <td>Fidel Castro: American Experience</td>\n",
       "    </tr>\n",
       "    <tr>\n",
       "      <th>17767</th>\n",
       "      <td>17768</td>\n",
       "      <td>2000.0</td>\n",
       "      <td>Epoch</td>\n",
       "    </tr>\n",
       "    <tr>\n",
       "      <th>17768</th>\n",
       "      <td>17769</td>\n",
       "      <td>2003.0</td>\n",
       "      <td>The Company</td>\n",
       "    </tr>\n",
       "    <tr>\n",
       "      <th>17769</th>\n",
       "      <td>17770</td>\n",
       "      <td>2003.0</td>\n",
       "      <td>Alien Hunter</td>\n",
       "    </tr>\n",
       "  </tbody>\n",
       "</table>\n",
       "</div>"
      ],
      "text/plain": [
       "       Movie_Id  Year_of_release  \\\n",
       "17765     17766           2002.0   \n",
       "17766     17767           2004.0   \n",
       "17767     17768           2000.0   \n",
       "17768     17769           2003.0   \n",
       "17769     17770           2003.0   \n",
       "\n",
       "                                                   Title  \n",
       "17765  Where the Wild Things Are and Other Maurice Se...  \n",
       "17766                  Fidel Castro: American Experience  \n",
       "17767                                              Epoch  \n",
       "17768                                        The Company  \n",
       "17769                                       Alien Hunter  "
      ]
     },
     "execution_count": 5,
     "metadata": {},
     "output_type": "execute_result"
    }
   ],
   "source": [
    "movies.tail(5)"
   ]
  },
  {
   "cell_type": "code",
   "execution_count": 6,
   "id": "6290fa06",
   "metadata": {},
   "outputs": [
    {
     "name": "stdout",
     "output_type": "stream",
     "text": [
      "<class 'pandas.core.frame.DataFrame'>\n",
      "RangeIndex: 17770 entries, 0 to 17769\n",
      "Data columns (total 3 columns):\n",
      " #   Column           Non-Null Count  Dtype  \n",
      "---  ------           --------------  -----  \n",
      " 0   Movie_Id         17770 non-null  int64  \n",
      " 1   Year_of_release  17763 non-null  float64\n",
      " 2   Title            17770 non-null  object \n",
      "dtypes: float64(1), int64(1), object(1)\n",
      "memory usage: 416.6+ KB\n"
     ]
    }
   ],
   "source": [
    "movies.info()"
   ]
  },
  {
   "cell_type": "code",
   "execution_count": 7,
   "id": "901bc9d0",
   "metadata": {},
   "outputs": [],
   "source": [
    "txt_df = pd.read_csv('combined_data_1.txt.zip',header = None, names = ['Cust_Id', 'Rating','Date'], usecols = [0,1,2],compression='zip')"
   ]
  },
  {
   "cell_type": "code",
   "execution_count": 8,
   "id": "68723afc",
   "metadata": {
    "scrolled": true
   },
   "outputs": [
    {
     "name": "stdout",
     "output_type": "stream",
     "text": [
      "<class 'pandas.core.frame.DataFrame'>\n",
      "RangeIndex: 24058263 entries, 0 to 24058262\n",
      "Data columns (total 3 columns):\n",
      " #   Column   Dtype  \n",
      "---  ------   -----  \n",
      " 0   Cust_Id  object \n",
      " 1   Rating   float64\n",
      " 2   Date     object \n",
      "dtypes: float64(1), object(2)\n",
      "memory usage: 550.7+ MB\n"
     ]
    }
   ],
   "source": [
    "txt_df.info()"
   ]
  },
  {
   "cell_type": "code",
   "execution_count": 9,
   "id": "77acca06",
   "metadata": {},
   "outputs": [
    {
     "name": "stdout",
     "output_type": "stream",
     "text": [
      "          Cust_Id  Rating        Date\n",
      "24058258  2591364     2.0  2005-02-16\n",
      "24058259  1791000     2.0  2005-02-10\n",
      "24058260   512536     5.0  2005-07-27\n",
      "24058261   988963     3.0  2005-12-20\n",
      "24058262  1704416     3.0  2004-06-02\n"
     ]
    }
   ],
   "source": [
    "print(txt_df.tail(5))"
   ]
  },
  {
   "cell_type": "code",
   "execution_count": 10,
   "id": "54104380",
   "metadata": {},
   "outputs": [
    {
     "name": "stdout",
     "output_type": "stream",
     "text": [
      "(100480507, 4)\n",
      "17770\n",
      "   Cust_Id Rating        Date Movie_Id\n",
      "1  1488844    3.0  2005-09-06        1\n",
      "2   822109    5.0  2005-05-13        1\n",
      "3   885013    4.0  2005-10-19        1\n",
      "4    30878    4.0  2005-12-26        1\n",
      "5   823519    3.0  2004-05-03        1\n",
      "Printing Tail Data\n",
      "          Cust_Id Rating        Date Movie_Id\n",
      "26851921  1790158    4.0  2005-11-01    17770\n",
      "26851922  1608708    3.0  2005-07-19    17770\n",
      "26851923   234275    1.0  2004-08-07    17770\n",
      "26851924   255278    4.0  2004-05-28    17770\n",
      "26851925   453585    2.0  2005-03-10    17770\n",
      "CPU times: user 1min 43s, sys: 21.7 s, total: 2min 5s\n",
      "Wall time: 2min 13s\n"
     ]
    }
   ],
   "source": [
    "%%time\n",
    "import pandas as pd\n",
    "separated_data=['combined_data_1.txt.zip','combined_data_2.txt.zip',\n",
    " 'combined_data_3.txt.zip','combined_data_4.txt.zip']\n",
    "cols = ['Cust_Id', 'Rating','Date']\n",
    "ratings_df=pd.DataFrame(columns=cols)\n",
    "for file in separated_data:\n",
    "    df1=pd.read_csv(file,header=None, names = ['Cust_Id', 'Rating','Date'], usecols = [0,1,2],compression='zip')\n",
    "    df1[\"Movie_Id\"]=\"NaN\"\n",
    "    df3=df1[df1[\"Cust_Id\"].apply(lambda x:x[-1]==\":\")]\n",
    "    df3[\"Cust_Id\"] = df3[\"Cust_Id\"].str.strip()\n",
    "    df3[\"Movie_Id\"] = df3[\"Cust_Id\"].replace(\":\",\"\")\n",
    "    df1.loc[df3.index,:]=df3\n",
    "    df1[\"Movie_Id\"] = df1[\"Movie_Id\"].str.strip()\n",
    "    df1[\"Movie_Id\"] = df1[\"Movie_Id\"].replace(\"NaN\",np.nan)\n",
    "    df1[\"Movie_Id\"] = df1[\"Movie_Id\"].str.replace(\":\",\"\")\n",
    "    df1[\"Movie_Id\"]=df1[\"Movie_Id\"].fillna(method=\"ffill\")\n",
    "    df1=df1[df1[\"Rating\"].notnull()]\n",
    "    ratings_df = ratings_df.append(df1)\n",
    "\n",
    "print(ratings_df.shape)\n",
    "print(ratings_df[\"Movie_Id\"].nunique())\n",
    "print(ratings_df.head(5))\n",
    "print(\"Printing Tail Data\")\n",
    "print(ratings_df.tail(5))"
   ]
  },
  {
   "cell_type": "code",
   "execution_count": 11,
   "id": "1f8dde58",
   "metadata": {},
   "outputs": [
    {
     "name": "stdout",
     "output_type": "stream",
     "text": [
      "Index(['Movie_Id', 'Year_of_release', 'Title'], dtype='object')\n"
     ]
    }
   ],
   "source": [
    "print(movies.columns)"
   ]
  },
  {
   "cell_type": "code",
   "execution_count": 12,
   "id": "605a64b4",
   "metadata": {},
   "outputs": [
    {
     "data": {
      "text/html": [
       "<div>\n",
       "<style scoped>\n",
       "    .dataframe tbody tr th:only-of-type {\n",
       "        vertical-align: middle;\n",
       "    }\n",
       "\n",
       "    .dataframe tbody tr th {\n",
       "        vertical-align: top;\n",
       "    }\n",
       "\n",
       "    .dataframe thead th {\n",
       "        text-align: right;\n",
       "    }\n",
       "</style>\n",
       "<table border=\"1\" class=\"dataframe\">\n",
       "  <thead>\n",
       "    <tr style=\"text-align: right;\">\n",
       "      <th></th>\n",
       "      <th>Movie_Id</th>\n",
       "      <th>Year_of_release</th>\n",
       "      <th>Title</th>\n",
       "    </tr>\n",
       "  </thead>\n",
       "  <tbody>\n",
       "    <tr>\n",
       "      <th>0</th>\n",
       "      <td>1</td>\n",
       "      <td>2003.0</td>\n",
       "      <td>Dinosaur Planet</td>\n",
       "    </tr>\n",
       "    <tr>\n",
       "      <th>1</th>\n",
       "      <td>2</td>\n",
       "      <td>2004.0</td>\n",
       "      <td>Isle of Man TT 2004 Review</td>\n",
       "    </tr>\n",
       "    <tr>\n",
       "      <th>2</th>\n",
       "      <td>3</td>\n",
       "      <td>1997.0</td>\n",
       "      <td>Character</td>\n",
       "    </tr>\n",
       "    <tr>\n",
       "      <th>3</th>\n",
       "      <td>4</td>\n",
       "      <td>1994.0</td>\n",
       "      <td>Paula Abdul's Get Up &amp; Dance</td>\n",
       "    </tr>\n",
       "    <tr>\n",
       "      <th>4</th>\n",
       "      <td>5</td>\n",
       "      <td>2004.0</td>\n",
       "      <td>The Rise and Fall of ECW</td>\n",
       "    </tr>\n",
       "  </tbody>\n",
       "</table>\n",
       "</div>"
      ],
      "text/plain": [
       "   Movie_Id  Year_of_release                         Title\n",
       "0         1           2003.0               Dinosaur Planet\n",
       "1         2           2004.0    Isle of Man TT 2004 Review\n",
       "2         3           1997.0                     Character\n",
       "3         4           1994.0  Paula Abdul's Get Up & Dance\n",
       "4         5           2004.0      The Rise and Fall of ECW"
      ]
     },
     "execution_count": 12,
     "metadata": {},
     "output_type": "execute_result"
    }
   ],
   "source": [
    "movies.head(5)"
   ]
  },
  {
   "cell_type": "code",
   "execution_count": 13,
   "id": "fc504048",
   "metadata": {},
   "outputs": [
    {
     "name": "stdout",
     "output_type": "stream",
     "text": [
      "<class 'pandas.core.frame.DataFrame'>\n",
      "RangeIndex: 17770 entries, 0 to 17769\n",
      "Data columns (total 3 columns):\n",
      " #   Column           Non-Null Count  Dtype  \n",
      "---  ------           --------------  -----  \n",
      " 0   Movie_Id         17770 non-null  int64  \n",
      " 1   Year_of_release  17763 non-null  float64\n",
      " 2   Title            17770 non-null  object \n",
      "dtypes: float64(1), int64(1), object(1)\n",
      "memory usage: 416.6+ KB\n"
     ]
    }
   ],
   "source": [
    "movies.info()"
   ]
  },
  {
   "cell_type": "code",
   "execution_count": 14,
   "id": "87bc30ec",
   "metadata": {},
   "outputs": [
    {
     "name": "stdout",
     "output_type": "stream",
     "text": [
      "<class 'pandas.core.frame.DataFrame'>\n",
      "Int64Index: 100480507 entries, 1 to 26851925\n",
      "Data columns (total 4 columns):\n",
      " #   Column    Dtype \n",
      "---  ------    ----- \n",
      " 0   Cust_Id   object\n",
      " 1   Rating    object\n",
      " 2   Date      object\n",
      " 3   Movie_Id  object\n",
      "dtypes: object(4)\n",
      "memory usage: 3.7+ GB\n"
     ]
    }
   ],
   "source": [
    "ratings_df.info()"
   ]
  },
  {
   "cell_type": "code",
   "execution_count": 15,
   "id": "1d7e6fc3",
   "metadata": {},
   "outputs": [
    {
     "data": {
      "text/plain": [
       "Cust_Id      object\n",
       "Rating      float64\n",
       "Date         object\n",
       "Movie_Id     object\n",
       "dtype: object"
      ]
     },
     "execution_count": 15,
     "metadata": {},
     "output_type": "execute_result"
    }
   ],
   "source": [
    "ratings_df.infer_objects().dtypes"
   ]
  },
  {
   "cell_type": "code",
   "execution_count": 16,
   "id": "f84af23d",
   "metadata": {},
   "outputs": [],
   "source": [
    "ratings_df[['Cust_Id', 'Movie_Id']] = ratings_df[['Cust_Id', 'Movie_Id']].astype(int)\n",
    "ratings_df['Date'] =  pd.to_datetime(ratings_df['Date'])"
   ]
  },
  {
   "cell_type": "code",
   "execution_count": 17,
   "id": "735bc99b",
   "metadata": {},
   "outputs": [
    {
     "data": {
      "text/plain": [
       "Cust_Id              int64\n",
       "Rating              object\n",
       "Date        datetime64[ns]\n",
       "Movie_Id             int64\n",
       "dtype: object"
      ]
     },
     "execution_count": 17,
     "metadata": {},
     "output_type": "execute_result"
    }
   ],
   "source": [
    "ratings_df.dtypes"
   ]
  },
  {
   "cell_type": "code",
   "execution_count": 18,
   "id": "24f0e16b",
   "metadata": {},
   "outputs": [],
   "source": [
    "# merging the movies dataframe with rating dataframe\n",
    "df=pd.merge(movies, ratings_df, on = \"Movie_Id\", how='inner')"
   ]
  },
  {
   "cell_type": "code",
   "execution_count": 19,
   "id": "29d0f366",
   "metadata": {},
   "outputs": [
    {
     "name": "stdout",
     "output_type": "stream",
     "text": [
      "<class 'pandas.core.frame.DataFrame'>\n",
      "Int64Index: 100480507 entries, 0 to 100480506\n",
      "Data columns (total 6 columns):\n",
      " #   Column           Dtype         \n",
      "---  ------           -----         \n",
      " 0   Movie_Id         int64         \n",
      " 1   Year_of_release  float64       \n",
      " 2   Title            object        \n",
      " 3   Cust_Id          int64         \n",
      " 4   Rating           object        \n",
      " 5   Date             datetime64[ns]\n",
      "dtypes: datetime64[ns](1), float64(1), int64(2), object(2)\n",
      "memory usage: 5.2+ GB\n"
     ]
    }
   ],
   "source": [
    "df.info()"
   ]
  },
  {
   "cell_type": "code",
   "execution_count": 152,
   "id": "7e149137",
   "metadata": {},
   "outputs": [
    {
     "name": "stdout",
     "output_type": "stream",
     "text": [
      "No of Nan values in our dataframe :  1\n"
     ]
    }
   ],
   "source": [
    "# just to make sure that all Nan containing rows are deleted..\n",
    "print(\"No of Nan values in our dataframe : \", sum(df.isnull().any()))"
   ]
  },
  {
   "cell_type": "code",
   "execution_count": 154,
   "id": "65aca46d",
   "metadata": {},
   "outputs": [
    {
     "data": {
      "text/plain": [
       "Movie_Id             0\n",
       "Year_of_release    965\n",
       "Title                0\n",
       "Cust_Id              0\n",
       "Rating               0\n",
       "Date                 0\n",
       "dtype: int64"
      ]
     },
     "execution_count": 154,
     "metadata": {},
     "output_type": "execute_result"
    }
   ],
   "source": [
    "df.isnull().sum()"
   ]
  },
  {
   "cell_type": "code",
   "execution_count": 153,
   "id": "d104efaa",
   "metadata": {},
   "outputs": [
    {
     "name": "stdout",
     "output_type": "stream",
     "text": [
      "There are 0 duplicate rating entries in the data..\n"
     ]
    }
   ],
   "source": [
    "dup_bool = df.duplicated(['Movie_Id','Cust_Id','Rating'])\n",
    "dups = sum(dup_bool) # by considering all columns..( including timestamp)\n",
    "print(\"There are {} duplicate rating entries in the data..\".format(dups))"
   ]
  },
  {
   "cell_type": "code",
   "execution_count": 156,
   "id": "2605c644",
   "metadata": {},
   "outputs": [
    {
     "name": "stdout",
     "output_type": "stream",
     "text": [
      "\n",
      "Total no of ratings : 100480507\n",
      "Total No of Users   : 480189\n",
      "Total No of movies  : 17770\n"
     ]
    }
   ],
   "source": [
    "print(\"\\nTotal no of ratings :\",df.shape[0])\n",
    "print(\"Total No of Users   :\", len(np.unique(df.Cust_Id)))\n",
    "print(\"Total No of movies  :\", len(np.unique(df.Movie_Id)))"
   ]
  },
  {
   "cell_type": "code",
   "execution_count": 20,
   "id": "954494a1",
   "metadata": {},
   "outputs": [],
   "source": [
    "## method to make y-axis more readable\n",
    "def human(num, units = 'M'):\n",
    "    units = units.lower()\n",
    "    num = float(num)\n",
    "    if units == 'k':\n",
    "        return str(num/10**3) + \" K\"\n",
    "    elif units == 'm':\n",
    "        return str(num/10**6) + \" M\"\n",
    "    elif units == 'b':\n",
    "        return str(num/10**9) +  \" B\""
   ]
  },
  {
   "cell_type": "code",
   "execution_count": 159,
   "id": "f5c7157d",
   "metadata": {},
   "outputs": [
    {
     "data": {
      "image/png": "[encoded data removed]",
      "text/plain": [
       "<Figure size 432x288 with 1 Axes>"
      ]
     },
     "metadata": {
      "needs_background": "light"
     },
     "output_type": "display_data"
    }
   ],
   "source": [
    "fig, ax = plt.subplots()\n",
    "plt.title('Distribution of ratings over dataset', fontsize=15)\n",
    "sns.countplot(df.Rating)\n",
    "ax.set_yticklabels([human(item, 'M') for item in ax.get_yticks()])\n",
    "ax.set_ylabel('No. of Ratings(Millions)')\n",
    "\n",
    "plt.show()"
   ]
  },
  {
   "cell_type": "code",
   "execution_count": 162,
   "id": "2569f2a2",
   "metadata": {},
   "outputs": [
    {
     "name": "stdout",
     "output_type": "stream",
     "text": [
      "The minimum Customer_Id and the maximum Customer_Id in the df are (6, 2649429) respectively\n"
     ]
    }
   ],
   "source": [
    "print(f\"The minimum Customer_Id and the maximum Customer_Id in the df are {df.Cust_Id.min(),df.Cust_Id.max()} respectively\")"
   ]
  },
  {
   "cell_type": "markdown",
   "id": "015c6749",
   "metadata": {},
   "source": [
    "know that there are only 480189 unique customers in the df which will lead to confusion.\n",
    "Hence we're going to map them as continuous integers"
   ]
  },
  {
   "cell_type": "code",
   "execution_count": 25,
   "id": "f4668c9d",
   "metadata": {},
   "outputs": [
    {
     "data": {
      "text/plain": [
       "480189"
      ]
     },
     "execution_count": 25,
     "metadata": {},
     "output_type": "execute_result"
    }
   ],
   "source": [
    "df.Cust_Id.unique().shape[0]"
   ]
  },
  {
   "cell_type": "code",
   "execution_count": 26,
   "id": "ff0aadbd",
   "metadata": {},
   "outputs": [],
   "source": [
    "# creating a dict map to map old Cust_Id to new and continuous Customer_Id\n",
    "mapping={old:new for old,new in list(zip(sorted(df.Cust_Id.unique()),\n",
    "                  range(df.Cust_Id.unique().shape[0])))}"
   ]
  },
  {
   "cell_type": "code",
   "execution_count": 27,
   "id": "09f0c014",
   "metadata": {},
   "outputs": [],
   "source": [
    "# applying the above mapping\n",
    "df['Cust_Id']=df['Cust_Id'].map(mapping)"
   ]
  },
  {
   "cell_type": "code",
   "execution_count": 28,
   "id": "7efdabe1",
   "metadata": {},
   "outputs": [
    {
     "name": "stdout",
     "output_type": "stream",
     "text": [
      "480189\n",
      "0\n",
      "480188\n"
     ]
    }
   ],
   "source": [
    "# checking if the new Cust_Id is continuous\n",
    "print(df.Cust_Id.unique().shape[0])\n",
    "print(df.Cust_Id.min())\n",
    "print(df.Cust_Id.max())"
   ]
  },
  {
   "cell_type": "markdown",
   "id": "d31115cc",
   "metadata": {},
   "source": [
    "### Checking the distribution of popularity of the movies"
   ]
  },
  {
   "cell_type": "code",
   "execution_count": 179,
   "id": "45caaad1",
   "metadata": {},
   "outputs": [
    {
     "data": {
      "image/png": "[encoded data removed]",
      "text/plain": [
       "<Figure size 1800x1200 with 1 Axes>"
      ]
     },
     "metadata": {
      "needs_background": "light"
     },
     "output_type": "display_data"
    }
   ],
   "source": [
    "plt.figure(dpi=300)\n",
    "plt.title('Popularity Ranking Of Movies') \n",
    "df.Movie_Id.value_counts()[:6000].plot(kind='bar', color='red')\n",
    "plt.xticks(ticks=[]);"
   ]
  },
  {
   "cell_type": "markdown",
   "id": "a1ddba12",
   "metadata": {},
   "source": [
    "### Checking the distribution of ratings of the movies"
   ]
  },
  {
   "cell_type": "code",
   "execution_count": 180,
   "id": "7c8cd1c2",
   "metadata": {},
   "outputs": [
    {
     "data": {
      "image/png": "[encoded data removed]",
      "text/plain": [
       "<Figure size 432x288 with 1 Axes>"
      ]
     },
     "metadata": {
      "needs_background": "light"
     },
     "output_type": "display_data"
    }
   ],
   "source": [
    "fig, ax = plt.subplots()\n",
    "plt.title('Distribution of ratings over dataset', fontsize=15)\n",
    "sns.countplot(df.Rating)\n",
    "ax.set_yticklabels([human(item, 'M') for item in ax.get_yticks()])\n",
    "ax.set_ylabel('No. of Ratings(Millions)')\n",
    "\n",
    "plt.show()"
   ]
  },
  {
   "cell_type": "markdown",
   "id": "824aedec",
   "metadata": {},
   "source": [
    "### List of top 20 best movies as per the average user rating."
   ]
  },
  {
   "cell_type": "code",
   "execution_count": 182,
   "id": "a385ab20",
   "metadata": {},
   "outputs": [
    {
     "data": {
      "image/png": "[encoded data removed]",
      "text/plain": [
       "<Figure size 1800x1200 with 1 Axes>"
      ]
     },
     "metadata": {
      "needs_background": "light"
     },
     "output_type": "display_data"
    }
   ],
   "source": [
    "# average user rating of top 20 movies\n",
    "plt.figure(dpi=300)\n",
    "plt.title('Average User Rating vs Movies') \n",
    "plt.ylabel('Average User Rating') \n",
    "(df.groupby(by='Movie_Id')['Rating']\n",
    ".mean().sort_values(ascending=False)[:20]).plot(kind='bar');"
   ]
  },
  {
   "cell_type": "markdown",
   "id": "58f01110",
   "metadata": {},
   "source": [
    "### Add new column (week day) to the data set for analysis."
   ]
  },
  {
   "cell_type": "code",
   "execution_count": 185,
   "id": "552b34a3",
   "metadata": {},
   "outputs": [
    {
     "data": {
      "text/html": [
       "<div>\n",
       "<style scoped>\n",
       "    .dataframe tbody tr th:only-of-type {\n",
       "        vertical-align: middle;\n",
       "    }\n",
       "\n",
       "    .dataframe tbody tr th {\n",
       "        vertical-align: top;\n",
       "    }\n",
       "\n",
       "    .dataframe thead th {\n",
       "        text-align: right;\n",
       "    }\n",
       "</style>\n",
       "<table border=\"1\" class=\"dataframe\">\n",
       "  <thead>\n",
       "    <tr style=\"text-align: right;\">\n",
       "      <th></th>\n",
       "      <th>Movie_Id</th>\n",
       "      <th>Year_of_release</th>\n",
       "      <th>Title</th>\n",
       "      <th>Cust_Id</th>\n",
       "      <th>Rating</th>\n",
       "      <th>Date</th>\n",
       "      <th>day_of_week</th>\n",
       "    </tr>\n",
       "  </thead>\n",
       "  <tbody>\n",
       "    <tr>\n",
       "      <th>100480502</th>\n",
       "      <td>17770</td>\n",
       "      <td>2003.0</td>\n",
       "      <td>Alien Hunter</td>\n",
       "      <td>324830</td>\n",
       "      <td>4.0</td>\n",
       "      <td>2005-11-01</td>\n",
       "      <td>Tuesday</td>\n",
       "    </tr>\n",
       "    <tr>\n",
       "      <th>100480503</th>\n",
       "      <td>17770</td>\n",
       "      <td>2003.0</td>\n",
       "      <td>Alien Hunter</td>\n",
       "      <td>291851</td>\n",
       "      <td>3.0</td>\n",
       "      <td>2005-07-19</td>\n",
       "      <td>Tuesday</td>\n",
       "    </tr>\n",
       "    <tr>\n",
       "      <th>100480504</th>\n",
       "      <td>17770</td>\n",
       "      <td>2003.0</td>\n",
       "      <td>Alien Hunter</td>\n",
       "      <td>42442</td>\n",
       "      <td>1.0</td>\n",
       "      <td>2004-08-07</td>\n",
       "      <td>Saturday</td>\n",
       "    </tr>\n",
       "    <tr>\n",
       "      <th>100480505</th>\n",
       "      <td>17770</td>\n",
       "      <td>2003.0</td>\n",
       "      <td>Alien Hunter</td>\n",
       "      <td>46235</td>\n",
       "      <td>4.0</td>\n",
       "      <td>2004-05-28</td>\n",
       "      <td>Friday</td>\n",
       "    </tr>\n",
       "    <tr>\n",
       "      <th>100480506</th>\n",
       "      <td>17770</td>\n",
       "      <td>2003.0</td>\n",
       "      <td>Alien Hunter</td>\n",
       "      <td>82582</td>\n",
       "      <td>2.0</td>\n",
       "      <td>2005-03-10</td>\n",
       "      <td>Thursday</td>\n",
       "    </tr>\n",
       "  </tbody>\n",
       "</table>\n",
       "</div>"
      ],
      "text/plain": [
       "           Movie_Id  Year_of_release         Title  Cust_Id Rating       Date  \\\n",
       "100480502     17770           2003.0  Alien Hunter   324830    4.0 2005-11-01   \n",
       "100480503     17770           2003.0  Alien Hunter   291851    3.0 2005-07-19   \n",
       "100480504     17770           2003.0  Alien Hunter    42442    1.0 2004-08-07   \n",
       "100480505     17770           2003.0  Alien Hunter    46235    4.0 2004-05-28   \n",
       "100480506     17770           2003.0  Alien Hunter    82582    2.0 2005-03-10   \n",
       "\n",
       "          day_of_week  \n",
       "100480502     Tuesday  \n",
       "100480503     Tuesday  \n",
       "100480504    Saturday  \n",
       "100480505      Friday  \n",
       "100480506    Thursday  "
      ]
     },
     "execution_count": 185,
     "metadata": {},
     "output_type": "execute_result"
    }
   ],
   "source": [
    "# It is used to skip the warning ''SettingWithCopyWarning''.. \n",
    "pd.options.mode.chained_assignment = None  \n",
    "df['day_of_week'] = df.Date.dt.day_name()\n",
    "df.tail()"
   ]
  },
  {
   "cell_type": "markdown",
   "id": "e4fba747",
   "metadata": {},
   "source": [
    "### Number of Ratings per a month"
   ]
  },
  {
   "cell_type": "code",
   "execution_count": 186,
   "id": "7e89d2bd",
   "metadata": {},
   "outputs": [
    {
     "data": {
      "image/png": "[encoded data removed]",
      "text/plain": [
       "<Figure size 432x288 with 1 Axes>"
      ]
     },
     "metadata": {
      "needs_background": "light"
     },
     "output_type": "display_data"
    }
   ],
   "source": [
    "%% time\n",
    "ax = df.resample('m', on='Date')['Rating'].count().plot()\n",
    "ax.set_title('No of ratings per month (data)')\n",
    "plt.xlabel('Month')\n",
    "plt.ylabel('No of ratings(per month)')\n",
    "ax.set_yticklabels([human(item, 'M') for item in ax.get_yticks()])\n",
    "plt.show()"
   ]
  },
  {
   "cell_type": "markdown",
   "id": "336a5272",
   "metadata": {},
   "source": [
    "### Analysis on the Ratings given by user"
   ]
  },
  {
   "cell_type": "code",
   "execution_count": 29,
   "id": "4d38e3d2",
   "metadata": {},
   "outputs": [
    {
     "data": {
      "text/plain": [
       "Cust_Id\n",
       "55373     17653\n",
       "70466     17436\n",
       "442139    16565\n",
       "301823    15813\n",
       "383961    14831\n",
       "Name: Rating, dtype: int64"
      ]
     },
     "execution_count": 29,
     "metadata": {},
     "output_type": "execute_result"
    }
   ],
   "source": [
    "no_of_rated_movies_per_user = df.groupby(by='Cust_Id')['Rating'].count().sort_values(ascending=False)\n",
    "\n",
    "no_of_rated_movies_per_user.head()\n"
   ]
  },
  {
   "cell_type": "markdown",
   "id": "47866543",
   "metadata": {},
   "source": [
    "PDF is a statistical term that describes the probability distribution of the continues random variable\n",
    "The cumulative distribution function is applicable for describing the distribution of random variables \n",
    "either it is continuous or discrete\n",
    "\n",
    "The CDF of a variable X, or just distribution function of X, is essentially just a \n",
    "representation of the probability that X will take a value less than or equal to X. Of course, this is a function of continuous statistical features."
   ]
  },
  {
   "cell_type": "code",
   "execution_count": 188,
   "id": "d027d66e",
   "metadata": {},
   "outputs": [
    {
     "data": {
      "image/png": "[encoded data removed]",
      "text/plain": [
       "<Figure size 576x288 with 2 Axes>"
      ]
     },
     "metadata": {
      "needs_background": "light"
     },
     "output_type": "display_data"
    },
    {
     "name": "stdout",
     "output_type": "stream",
     "text": [
      "CPU times: user 5.36 s, sys: 682 ms, total: 6.05 s\n",
      "Wall time: 3.2 s\n"
     ]
    }
   ],
   "source": [
    "%%time\n",
    "fig = plt.figure(figsize=plt.figaspect(.5))\n",
    "\n",
    "ax1 = plt.subplot(121)\n",
    "sns.kdeplot(no_of_rated_movies_per_user, shade=True, ax=ax1)\n",
    "plt.xlabel('No of ratings by user')\n",
    "plt.title(\"PDF\")\n",
    "\n",
    "ax2 = plt.subplot(122)\n",
    "sns.kdeplot(no_of_rated_movies_per_user, shade=True, cumulative=True,ax=ax2)\n",
    "plt.xlabel('No of ratings by user')\n",
    "plt.title('CDF')\n",
    "\n",
    "plt.show()"
   ]
  },
  {
   "cell_type": "markdown",
   "id": "a734ecf3",
   "metadata": {},
   "source": [
    " ### Analysis of ratings of a movie given by a user"
   ]
  },
  {
   "cell_type": "code",
   "execution_count": 30,
   "id": "59934861",
   "metadata": {},
   "outputs": [
    {
     "data": {
      "image/png": "[encoded data removed]",
      "text/plain": [
       "<Figure size 576x288 with 1 Axes>"
      ]
     },
     "metadata": {
      "needs_background": "light"
     },
     "output_type": "display_data"
    },
    {
     "name": "stdout",
     "output_type": "stream",
     "text": [
      "CPU times: user 1.11 s, sys: 814 ms, total: 1.92 s\n",
      "Wall time: 2.42 s\n"
     ]
    }
   ],
   "source": [
    "%%time\n",
    "no_of_ratings_per_movie = df.groupby(by='Movie_Id')['Rating'].count().sort_values(ascending=False)\n",
    "\n",
    "fig = plt.figure(figsize=plt.figaspect(.5))\n",
    "ax = plt.gca()\n",
    "plt.plot(no_of_ratings_per_movie.values)\n",
    "plt.title('# RATINGS per Movie')\n",
    "plt.xlabel('Movie_Id')\n",
    "plt.ylabel('No of Users who rated a movie')\n",
    "ax.set_xticklabels([])\n",
    "\n",
    "plt.show()"
   ]
  },
  {
   "cell_type": "markdown",
   "id": "d8f3625f",
   "metadata": {},
   "source": [
    "- It is very skewed.. just like nunmber of ratings given per user.\n",
    "- There are some movies (which are very popular) which are rated by huge number of users.\n",
    "\n",
    "- But most of the movies(like 90%) got some hundereds of ratings."
   ]
  },
  {
   "cell_type": "markdown",
   "id": "e6af9b3a",
   "metadata": {},
   "source": [
    "### Number of ratings on each day of the week"
   ]
  },
  {
   "cell_type": "code",
   "execution_count": 191,
   "id": "730a31b3",
   "metadata": {},
   "outputs": [
    {
     "data": {
      "image/png": "[encoded data removed]",
      "text/plain": [
       "<Figure size 432x288 with 1 Axes>"
      ]
     },
     "metadata": {
      "needs_background": "light"
     },
     "output_type": "display_data"
    }
   ],
   "source": [
    "%%time\n",
    "fig, ax = plt.subplots()\n",
    "sns.countplot(x='day_of_week', data=df, ax=ax)\n",
    "plt.title('No of ratings on each day...')\n",
    "plt.ylabel('Total no of ratings')\n",
    "plt.xlabel('')\n",
    "ax.set_yticklabels([human(item, 'M') for item in ax.get_yticks()])\n",
    "plt.show()\n"
   ]
  },
  {
   "cell_type": "code",
   "execution_count": 192,
   "id": "aaeb3dd1",
   "metadata": {},
   "outputs": [
    {
     "name": "stdout",
     "output_type": "stream",
     "text": [
      " AVerage ratings\n",
      "day_of_week\n",
      "Friday       3.605892\n",
      "Monday       3.597735\n",
      "Saturday     3.614754\n",
      "Sunday       3.616449\n",
      "Thursday     3.604305\n",
      "Tuesday      3.595808\n",
      "Wednesday    3.604725\n",
      "Name: Rating, dtype: float64\n"
     ]
    }
   ],
   "source": [
    "avg_week_df = df.groupby(by=['day_of_week'])['Rating'].mean()\n",
    "print(\" AVerage ratings\")\n",
    "print(avg_week_df)\n"
   ]
  },
  {
   "cell_type": "markdown",
   "id": "018731a5",
   "metadata": {},
   "source": [
    "###  Here we're going to produce the utility matrix by pivoting the dataframe df with Movie_Id as rows, Customer_Id as columns and the Rating as the cell values. Also we're going to use item-item cosine similarity based collaborative filtering technique to build our recommendation system."
   ]
  },
  {
   "cell_type": "markdown",
   "id": "1e13ee80",
   "metadata": {},
   "source": [
    "### Let's centre the rating vectors of every movie by subtracting it by average rating of the movie. We're doing this in order to make better sense of the cosine similarity."
   ]
  },
  {
   "cell_type": "code",
   "execution_count": 31,
   "id": "d88ff474",
   "metadata": {},
   "outputs": [
    {
     "data": {
      "text/html": [
       "<div>\n",
       "<style scoped>\n",
       "    .dataframe tbody tr th:only-of-type {\n",
       "        vertical-align: middle;\n",
       "    }\n",
       "\n",
       "    .dataframe tbody tr th {\n",
       "        vertical-align: top;\n",
       "    }\n",
       "\n",
       "    .dataframe thead th {\n",
       "        text-align: right;\n",
       "    }\n",
       "</style>\n",
       "<table border=\"1\" class=\"dataframe\">\n",
       "  <thead>\n",
       "    <tr style=\"text-align: right;\">\n",
       "      <th></th>\n",
       "      <th>Rating</th>\n",
       "    </tr>\n",
       "    <tr>\n",
       "      <th>Movie_Id</th>\n",
       "      <th></th>\n",
       "    </tr>\n",
       "  </thead>\n",
       "  <tbody>\n",
       "    <tr>\n",
       "      <th>1</th>\n",
       "      <td>3.749543</td>\n",
       "    </tr>\n",
       "    <tr>\n",
       "      <th>2</th>\n",
       "      <td>3.558621</td>\n",
       "    </tr>\n",
       "    <tr>\n",
       "      <th>3</th>\n",
       "      <td>3.641153</td>\n",
       "    </tr>\n",
       "    <tr>\n",
       "      <th>4</th>\n",
       "      <td>2.739437</td>\n",
       "    </tr>\n",
       "    <tr>\n",
       "      <th>5</th>\n",
       "      <td>3.919298</td>\n",
       "    </tr>\n",
       "  </tbody>\n",
       "</table>\n",
       "</div>"
      ],
      "text/plain": [
       "            Rating\n",
       "Movie_Id          \n",
       "1         3.749543\n",
       "2         3.558621\n",
       "3         3.641153\n",
       "4         2.739437\n",
       "5         3.919298"
      ]
     },
     "execution_count": 31,
     "metadata": {},
     "output_type": "execute_result"
    }
   ],
   "source": [
    "# finding the average rating for each movie\n",
    "mean_rating=df.groupby(by='Movie_Id')[['Rating']].mean() \n",
    "mean_rating.head()"
   ]
  },
  {
   "cell_type": "code",
   "execution_count": 32,
   "id": "6d25ae8d",
   "metadata": {},
   "outputs": [
    {
     "data": {
      "text/html": [
       "<div>\n",
       "<style scoped>\n",
       "    .dataframe tbody tr th:only-of-type {\n",
       "        vertical-align: middle;\n",
       "    }\n",
       "\n",
       "    .dataframe tbody tr th {\n",
       "        vertical-align: top;\n",
       "    }\n",
       "\n",
       "    .dataframe thead th {\n",
       "        text-align: right;\n",
       "    }\n",
       "</style>\n",
       "<table border=\"1\" class=\"dataframe\">\n",
       "  <thead>\n",
       "    <tr style=\"text-align: right;\">\n",
       "      <th></th>\n",
       "      <th>Movie_Id</th>\n",
       "      <th>Year_of_release</th>\n",
       "      <th>Title</th>\n",
       "      <th>Cust_Id</th>\n",
       "      <th>Rating_x</th>\n",
       "      <th>Date</th>\n",
       "      <th>Rating_y</th>\n",
       "    </tr>\n",
       "  </thead>\n",
       "  <tbody>\n",
       "    <tr>\n",
       "      <th>0</th>\n",
       "      <td>1</td>\n",
       "      <td>2003.0</td>\n",
       "      <td>Dinosaur Planet</td>\n",
       "      <td>270045</td>\n",
       "      <td>3.0</td>\n",
       "      <td>2005-09-06</td>\n",
       "      <td>3.749543</td>\n",
       "    </tr>\n",
       "    <tr>\n",
       "      <th>1</th>\n",
       "      <td>1</td>\n",
       "      <td>2003.0</td>\n",
       "      <td>Dinosaur Planet</td>\n",
       "      <td>149546</td>\n",
       "      <td>5.0</td>\n",
       "      <td>2005-05-13</td>\n",
       "      <td>3.749543</td>\n",
       "    </tr>\n",
       "    <tr>\n",
       "      <th>2</th>\n",
       "      <td>1</td>\n",
       "      <td>2003.0</td>\n",
       "      <td>Dinosaur Planet</td>\n",
       "      <td>160878</td>\n",
       "      <td>4.0</td>\n",
       "      <td>2005-10-19</td>\n",
       "      <td>3.749543</td>\n",
       "    </tr>\n",
       "    <tr>\n",
       "      <th>3</th>\n",
       "      <td>1</td>\n",
       "      <td>2003.0</td>\n",
       "      <td>Dinosaur Planet</td>\n",
       "      <td>5466</td>\n",
       "      <td>4.0</td>\n",
       "      <td>2005-12-26</td>\n",
       "      <td>3.749543</td>\n",
       "    </tr>\n",
       "    <tr>\n",
       "      <th>4</th>\n",
       "      <td>1</td>\n",
       "      <td>2003.0</td>\n",
       "      <td>Dinosaur Planet</td>\n",
       "      <td>149791</td>\n",
       "      <td>3.0</td>\n",
       "      <td>2004-05-03</td>\n",
       "      <td>3.749543</td>\n",
       "    </tr>\n",
       "  </tbody>\n",
       "</table>\n",
       "</div>"
      ],
      "text/plain": [
       "   Movie_Id  Year_of_release            Title  Cust_Id  Rating_x       Date  \\\n",
       "0         1           2003.0  Dinosaur Planet   270045       3.0 2005-09-06   \n",
       "1         1           2003.0  Dinosaur Planet   149546       5.0 2005-05-13   \n",
       "2         1           2003.0  Dinosaur Planet   160878       4.0 2005-10-19   \n",
       "3         1           2003.0  Dinosaur Planet     5466       4.0 2005-12-26   \n",
       "4         1           2003.0  Dinosaur Planet   149791       3.0 2004-05-03   \n",
       "\n",
       "   Rating_y  \n",
       "0  3.749543  \n",
       "1  3.749543  \n",
       "2  3.749543  \n",
       "3  3.749543  \n",
       "4  3.749543  "
      ]
     },
     "execution_count": 32,
     "metadata": {},
     "output_type": "execute_result"
    }
   ],
   "source": [
    "# merging the above df with the original df\n",
    "tmp=pd.merge(df, mean_rating, left_on='Movie_Id', right_index=True, how='inner')\n",
    "tmp.head()"
   ]
  },
  {
   "cell_type": "code",
   "execution_count": 33,
   "id": "577bfe2a",
   "metadata": {},
   "outputs": [
    {
     "name": "stdout",
     "output_type": "stream",
     "text": [
      "CPU times: user 1.66 s, sys: 5.13 s, total: 6.79 s\n",
      "Wall time: 6.3 s\n"
     ]
    },
    {
     "data": {
      "text/html": [
       "<div>\n",
       "<style scoped>\n",
       "    .dataframe tbody tr th:only-of-type {\n",
       "        vertical-align: middle;\n",
       "    }\n",
       "\n",
       "    .dataframe tbody tr th {\n",
       "        vertical-align: top;\n",
       "    }\n",
       "\n",
       "    .dataframe thead th {\n",
       "        text-align: right;\n",
       "    }\n",
       "</style>\n",
       "<table border=\"1\" class=\"dataframe\">\n",
       "  <thead>\n",
       "    <tr style=\"text-align: right;\">\n",
       "      <th></th>\n",
       "      <th>Movie_Id</th>\n",
       "      <th>Cust_Id</th>\n",
       "      <th>Rating</th>\n",
       "    </tr>\n",
       "  </thead>\n",
       "  <tbody>\n",
       "    <tr>\n",
       "      <th>0</th>\n",
       "      <td>1</td>\n",
       "      <td>270045</td>\n",
       "      <td>-0.749543</td>\n",
       "    </tr>\n",
       "    <tr>\n",
       "      <th>1</th>\n",
       "      <td>1</td>\n",
       "      <td>149546</td>\n",
       "      <td>1.250457</td>\n",
       "    </tr>\n",
       "    <tr>\n",
       "      <th>2</th>\n",
       "      <td>1</td>\n",
       "      <td>160878</td>\n",
       "      <td>0.250457</td>\n",
       "    </tr>\n",
       "    <tr>\n",
       "      <th>3</th>\n",
       "      <td>1</td>\n",
       "      <td>5466</td>\n",
       "      <td>0.250457</td>\n",
       "    </tr>\n",
       "    <tr>\n",
       "      <th>4</th>\n",
       "      <td>1</td>\n",
       "      <td>149791</td>\n",
       "      <td>-0.749543</td>\n",
       "    </tr>\n",
       "  </tbody>\n",
       "</table>\n",
       "</div>"
      ],
      "text/plain": [
       "   Movie_Id  Cust_Id    Rating\n",
       "0         1   270045 -0.749543\n",
       "1         1   149546  1.250457\n",
       "2         1   160878  0.250457\n",
       "3         1     5466  0.250457\n",
       "4         1   149791 -0.749543"
      ]
     },
     "execution_count": 33,
     "metadata": {},
     "output_type": "execute_result"
    }
   ],
   "source": [
    "%%time\n",
    "# creating a df containing the movie-wise centred ratings\n",
    "df=tmp[['Movie_Id','Cust_Id']] \n",
    "df['Rating']=tmp['Rating_x']-tmp['Rating_y'] \n",
    "df.head()"
   ]
  },
  {
   "cell_type": "markdown",
   "id": "e1b0b3d2",
   "metadata": {},
   "source": [
    "### Since utility matrix is going to be a massive, we're going to use csr_matrix to represent it."
   ]
  },
  {
   "cell_type": "markdown",
   "id": "1e8f31f8",
   "metadata": {},
   "source": [
    "- **Sparse Data**: is a data set where most of the item values are *zero*.\n",
    "\n",
    "- **Dense Array**: is the opposite of a sparse array: most of the values are not zero."
   ]
  },
  {
   "cell_type": "markdown",
   "id": "31863dd2",
   "metadata": {},
   "source": [
    "**There are primarily two types of sparse matrices that we use:**\n",
    "\n",
    "- CSC - Compressed Sparse Column. For efficient arithmetic, fast column slicing.\n",
    "\n",
    "- CSR - Compressed Sparse Row. For fast row slicing, faster matrix vector products"
   ]
  },
  {
   "cell_type": "code",
   "execution_count": 21,
   "id": "e225fdd7",
   "metadata": {},
   "outputs": [
    {
     "data": {
      "text/plain": [
       "Movie_Id                    int64\n",
       "Year_of_release           float64\n",
       "Title                      object\n",
       "Cust_Id                     int64\n",
       "Rating                     object\n",
       "Date               datetime64[ns]\n",
       "dtype: object"
      ]
     },
     "execution_count": 21,
     "metadata": {},
     "output_type": "execute_result"
    }
   ],
   "source": [
    "df.dtypes"
   ]
  },
  {
   "cell_type": "code",
   "execution_count": 22,
   "id": "59a357eb",
   "metadata": {},
   "outputs": [],
   "source": [
    "df[['Rating']] = df[['Rating']].astype(float)\n"
   ]
  },
  {
   "cell_type": "code",
   "execution_count": 23,
   "id": "b790065b",
   "metadata": {},
   "outputs": [
    {
     "data": {
      "text/plain": [
       "Movie_Id                    int64\n",
       "Year_of_release           float64\n",
       "Title                      object\n",
       "Cust_Id                     int64\n",
       "Rating                    float64\n",
       "Date               datetime64[ns]\n",
       "dtype: object"
      ]
     },
     "execution_count": 23,
     "metadata": {},
     "output_type": "execute_result"
    }
   ],
   "source": [
    "df.dtypes"
   ]
  },
  {
   "cell_type": "code",
   "execution_count": 34,
   "id": "889d146d",
   "metadata": {},
   "outputs": [
    {
     "name": "stdout",
     "output_type": "stream",
     "text": [
      "CPU times: user 9.47 s, sys: 1.35 s, total: 10.8 s\n",
      "Wall time: 11.5 s\n"
     ]
    },
    {
     "data": {
      "text/plain": [
       "<17771x480190 sparse matrix of type '<class 'numpy.float64'>'\n",
       "\twith 100480507 stored elements in Compressed Sparse Row format>"
      ]
     },
     "execution_count": 34,
     "metadata": {},
     "output_type": "execute_result"
    }
   ],
   "source": [
    "%%time\n",
    "rows=df.Movie_Id.values\n",
    "cols=df.Cust_Id.values\n",
    "data=df.Rating.values\n",
    "utility=sp.sparse.csr_matrix((data, (rows, cols)), shape=(1+df.Movie_Id.unique().shape[0],1+df.Cust_Id.unique().shape[0])) \n",
    "utility"
   ]
  },
  {
   "cell_type": "code",
   "execution_count": 35,
   "id": "39f8e09f",
   "metadata": {},
   "outputs": [],
   "source": [
    "# unsupervised learning algo for recommendation system\n",
    "from sklearn.neighbors import NearestNeighbors"
   ]
  },
  {
   "cell_type": "code",
   "execution_count": 36,
   "id": "00253f3f",
   "metadata": {},
   "outputs": [],
   "source": [
    "# capturing the pair of movie index and user index who actually rated the movie\n",
    "mov_idx,user_idx=utility.nonzero()"
   ]
  },
  {
   "cell_type": "code",
   "execution_count": 37,
   "id": "e839c3e1",
   "metadata": {},
   "outputs": [
    {
     "data": {
      "text/plain": [
       "(100472212, 100472212)"
      ]
     },
     "execution_count": 37,
     "metadata": {},
     "output_type": "execute_result"
    }
   ],
   "source": [
    "len(mov_idx), len(user_idx)"
   ]
  },
  {
   "cell_type": "markdown",
   "id": "d5cb76b7",
   "metadata": {},
   "source": [
    "## Recommender System Based On Collaborative Filtering Item-Item Cosine Similarity"
   ]
  },
  {
   "cell_type": "code",
   "execution_count": 48,
   "id": "13390ac9",
   "metadata": {},
   "outputs": [],
   "source": [
    "def recommendations(user_id):\n",
    "    #List the top 5 movies rated by given user\n",
    "    user_top_movies=utility[:,user_id].toarray().reshape(-1,)\n",
    "    # finding the argmax for top 5 ratings\n",
    "    user_top_movies=user_top_movies.argsort()[-5:][::-1]\n",
    "    print(f'The list of top 5 rated movies by the Cust_Id {user_id} are') \n",
    "    for film in movies.iloc[user_top_movies]['Title'].values:\n",
    "        print(film)\n",
    "    # rating vectors of all the movies rated by this user \n",
    "    # in otherwords utility submatrix \n",
    "    sub_utility=utility[mov_idx[user_idx==user_id]]\n",
    "    # instantiating KNN model with default 5 neigbors\n",
    "    knn=NearestNeighbors(metric='cosine', n_jobs=-1, algorithm='brute')\n",
    "    # training the above algorithm on the utility submatrix\n",
    "    knn.fit(sub_utility)\n",
    "    # collecting list of movies not watched by this user\n",
    "    unwatched =list(set(range(1,17771)).difference(set(mov_idx[user_idx==user_id])))\n",
    "    unwatched_rating=[-10]*17771\n",
    "    # for every unwatched film by this user \n",
    "    for newfilm in unwatched:\n",
    "        # we're finding the rating vector of the movie\n",
    "        rate_vector=utility[newfilm].toarray()\n",
    "        # extracting the cosine distances and movie_id\n",
    "        distance,movieid=knn.kneighbors(rate_vector, 5, return_distance=True) \n",
    "        # reshape the distance and the ids\n",
    "        distance,movieid=distance.reshape(-1,),movieid.reshape(-1,) \n",
    "        # converting cosine distance to cosine similarity\n",
    "        similarity=1-distance\n",
    "        # ratings of the aforementioned 5 most similar movies by this user\n",
    "        rates=utility[:,user_id][movieid].toarray().reshape(-1,) \n",
    "        # finding the weighted mean of the 5 highly rated movies\n",
    "        predicted_rating=np.dot(similarity,rates)/np.abs(similarity).sum()\n",
    "        # assigning the predicted_rating at the respective index \n",
    "        # corresponding to the movie index \n",
    "        unwatched_rating[newfilm]=predicted_rating\n",
    "    # converting it to numpy array\n",
    "    unwatched_rating=np.array(unwatched_rating) # finding the argmax for top 5 ratings\n",
    "    top_recommends=unwatched_rating.argsort()[-5:][::-1]\n",
    "    print(f'\\nThe list of top 5 recommended movies for the Cust_Id {user_id} are')\n",
    "    for recommend in movies.iloc[top_recommends]['Title'].values:\n",
    "        print(recommend)\n"
   ]
  },
  {
   "cell_type": "markdown",
   "id": "63949290",
   "metadata": {},
   "source": [
    "### The recommender function will first display top 5 highly rated movies by a given Customer_ID and then \n",
    "### it'll display top 5 recommended movies for this user."
   ]
  },
  {
   "cell_type": "code",
   "execution_count": 49,
   "id": "c2cdb149",
   "metadata": {},
   "outputs": [
    {
     "name": "stdout",
     "output_type": "stream",
     "text": [
      "The list of top 5 rated movies by the Customer_Id 160180 are\n",
      "Spike & Mike's Classic Festival of Animation\n",
      "The Abominable Dr. Phibes\n",
      "Class of Nuke 'Em High\n",
      "Sniper School\n",
      "Off Limits\n",
      "\n",
      "The list of top 5 recommended movies for the Cust_Id 160180 are\n",
      "Roseanne: Season 1\n",
      "Cardcaptor Sakura: The Movie\n",
      "The NBA's 100 Greatest Plays\n",
      "Stephen King's Cat's Eye\n",
      "How's Your News?\n"
     ]
    }
   ],
   "source": [
    "%%time \n",
    "recommendations(160180)"
   ]
  },
  {
   "cell_type": "markdown",
   "id": "63ffeba0",
   "metadata": {},
   "source": [
    "## Recommending Similar Movies While Searching"
   ]
  },
  {
   "cell_type": "code",
   "execution_count": 50,
   "id": "438a75e1",
   "metadata": {},
   "outputs": [
    {
     "data": {
      "text/plain": [
       "NearestNeighbors(algorithm='brute', metric='cosine', n_jobs=-1)"
      ]
     },
     "execution_count": 50,
     "metadata": {},
     "output_type": "execute_result"
    }
   ],
   "source": [
    "# nearest_neighbor object to find the similar movies\n",
    "similar_movies=NearestNeighbors(metric='cosine', n_jobs=-1, algorithm='brute') \n",
    "# fitting the above learning algo on the utility matrix\n",
    "similar_movies.fit(utility)"
   ]
  },
  {
   "cell_type": "code",
   "execution_count": 96,
   "id": "afcf39de",
   "metadata": {},
   "outputs": [
    {
     "name": "stdout",
     "output_type": "stream",
     "text": [
      "Enter your search phrase here: Titanic\n",
      "Titanic Collection\n",
      "Titanica: IMAX\n",
      "The Titanic (Documentary)\n",
      "The Titanic\n",
      "Titanic: The Complete Story\n",
      "Titanic\n",
      "Mysteries of the Deep: Legendary Shipwrecks: Secrets of the Titanic\n",
      "7\n"
     ]
    }
   ],
   "source": [
    "movie_name=input('Enter your search phrase here: ').lower()\n",
    "# finding the matches in the list of movie titles\n",
    "filtered=movies[movies.Title.str.lower().str.contains(movie_name)]\n",
    "filtered = filtered.drop_duplicates('Title', keep='last')\n",
    "for title in filtered.Title.values:\n",
    "        print(title)\n",
    "print(len(filtered))"
   ]
  },
  {
   "cell_type": "code",
   "execution_count": 95,
   "id": "8e08beb9",
   "metadata": {},
   "outputs": [
    {
     "data": {
      "text/plain": [
       "pandas.core.frame.DataFrame"
      ]
     },
     "execution_count": 95,
     "metadata": {},
     "output_type": "execute_result"
    }
   ],
   "source": [
    "type(filtered)"
   ]
  },
  {
   "cell_type": "code",
   "execution_count": 98,
   "id": "6d661465",
   "metadata": {},
   "outputs": [],
   "source": [
    "def search():\n",
    "    # lower casing the searched title\n",
    "    movie_name=input('Enter your search phrase here: ').lower()\n",
    "    # finding the matches in the list of movie titles\n",
    "    filtered=movies[movies.Title.str.lower().str.contains(movie_name)]\n",
    "    filtered = filtered.drop_duplicates('Title', keep='last')\n",
    "    if len(filtered)==0:\n",
    "        print(\"Couldn't find this movie. Please try again!\") \n",
    "        return\n",
    "    if len(filtered)>10:\n",
    "        print(\"Search phrase is too generic. Please try again!\") \n",
    "        return\n",
    "    print(f'\\nTop matches for your search phrase are:') \n",
    "    for title in filtered.Title.values:\n",
    "        print(title)\n",
    "        match_ids=filtered.Movie_Id.values \n",
    "        # list of search phrase matching movie ids \n",
    "        similar_ids=[]\n",
    "        seen=set()\n",
    "        # to avoid repeatedly recommending same movie\n",
    "    for ids in match_ids:\n",
    "        # capturing cosine distance and similar movie id from kneighbors \n",
    "        #for ids from every matching id \n",
    "        dis,mov=similar_movies.kneighbors(utility[ids],\n",
    "                                            n_neighbors=6, \n",
    "                                          return_distance=True)\n",
    "        for i in range(1,6):\n",
    "            # adding the cosine distance and similar movie id as long as \n",
    "            # the similar movie id is not already in the match_ids list \n",
    "            if (mov[0][i] not in match_ids) and (mov[0][i] not in seen):\n",
    "                seen.add(mov[0][i])\n",
    "                similar_ids.append([dis[0][i],mov[0][i]])\n",
    "    similar_ids.sort(key=lambda x:x[0]) # sorting based on the distance\n",
    "    print(f'\\nRecommended watch:')\n",
    "    for dist, mov_id in similar_ids[:10]:\n",
    "        # printing only the titles of the top 10 most similar movies\n",
    "        print(movies.Title.values[movies.Movie_Id==mov_id][0])\n"
   ]
  },
  {
   "cell_type": "code",
   "execution_count": 70,
   "id": "41edd2fe",
   "metadata": {},
   "outputs": [
    {
     "name": "stdout",
     "output_type": "stream",
     "text": [
      "Enter your search phrase here: finding nemo\n",
      "\n",
      "Top matches for your search phrase are:\n",
      "Finding Nemo (Widescreen)\n",
      "Finding Nemo (Full-screen)\n",
      "\n",
      "Recommended watch:\n",
      "Monsters\n",
      "Shrek (Full-screen)\n",
      "Shrek 2\n",
      "A Bug's Life\n",
      "The Incredibles\n",
      "Toy Story 2\n",
      "CPU times: user 13 s, sys: 5.76 s, total: 18.8 s\n",
      "Wall time: 12.1 s\n"
     ]
    }
   ],
   "source": [
    "%%time\n",
    "search()\n"
   ]
  },
  {
   "cell_type": "code",
   "execution_count": 71,
   "id": "20742a24",
   "metadata": {},
   "outputs": [
    {
     "name": "stdout",
     "output_type": "stream",
     "text": [
      "Enter your search phrase here: Forest\n",
      "\n",
      "Top matches for your search phrase are:\n",
      "Mermaid Forest\n",
      "The Singing Forest\n",
      "The Emerald Forest\n",
      "Ferngully: The Last Rainforest\n",
      "The Petrified Forest\n",
      "Tropical Rainforest: IMAX\n",
      "\n",
      "Recommended watch:\n",
      "K-Hole\n",
      "Fafner\n",
      "Traveling to Olympia\n",
      "Eden's Curve\n",
      "Murder in Portland\n",
      "Violet's Visit\n",
      "Tokyo Underground\n",
      "Dears\n",
      "C.S. Lewis: The Magic Never Ends\n",
      "Mobile Suit Gundam SEED the Movie 2: The Far-Away Dawn\n",
      "CPU times: user 38.4 s, sys: 17.3 s, total: 55.7 s\n",
      "Wall time: 23.6 s\n"
     ]
    }
   ],
   "source": [
    "%%time\n",
    "search()"
   ]
  },
  {
   "cell_type": "code",
   "execution_count": 99,
   "id": "8638acfc",
   "metadata": {},
   "outputs": [
    {
     "name": "stdout",
     "output_type": "stream",
     "text": [
      "Enter your search phrase here: Titanic\n",
      "\n",
      "Top matches for your search phrase are:\n",
      "Titanic Collection\n",
      "Titanica: IMAX\n",
      "The Titanic (Documentary)\n",
      "The Titanic\n",
      "Titanic: The Complete Story\n",
      "Titanic\n",
      "Mysteries of the Deep: Legendary Shipwrecks: Secrets of the Titanic\n",
      "\n",
      "Recommended watch:\n",
      "Ghost\n",
      "We Remember Marilyn\n",
      "Erin Brockovich\n",
      "Mysteries of the Deep: Legendary Shipwrecks: Last Voyage of the Lusitania\n",
      "Pretty Woman\n",
      "Pearl Harbor\n",
      "Steel Magnolias\n",
      "Bob Hope: Hollywood's Brightest Star\n",
      "The Unknown Jimmy Durante\n",
      "Underwaterworld Trilogy: Deep Encouters / Ocean Allies / Blue Voices\n",
      "CPU times: user 43.1 s, sys: 20.7 s, total: 1min 3s\n",
      "Wall time: 23.6 s\n"
     ]
    }
   ],
   "source": [
    "%%time\n",
    "search()"
   ]
  }
 ],
 "metadata": {
  "kernelspec": {
   "display_name": "Python 3 (ipykernel)",
   "language": "python",
   "name": "python3"
  },
  "language_info": {
   "codemirror_mode": {
    "name": "ipython",
    "version": 3
   },
   "file_extension": ".py",
   "mimetype": "text/x-python",
   "name": "python",
   "nbconvert_exporter": "python",
   "pygments_lexer": "ipython3",
   "version": "3.9.12"
  }
 },
 "nbformat": 4,
 "nbformat_minor": 5
}
